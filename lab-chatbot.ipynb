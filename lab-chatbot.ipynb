{
 "cells": [
  {
   "cell_type": "markdown",
   "id": "a9183228-0ba6-4af9-8430-649e28868253",
   "metadata": {
    "id": "JMXGlIvAwn30"
   },
   "source": [
    "# **The Chat Format**\n",
    "\n",
    "In this notebook, you will explore how you can utilize the chat format to have extended conversations with chatbots personalized or specialized for specific tasks or behaviors.\n",
    "\n",
    "## Setup"
   ]
  },
  {
   "cell_type": "code",
   "execution_count": 35,
   "id": "7fa0d9b5",
   "metadata": {
    "tags": []
   },
   "outputs": [],
   "source": [
    "import os\n",
    "import openai\n",
    "\n",
    "from dotenv import load_dotenv, find_dotenv\n",
    "_ = load_dotenv(find_dotenv()) # read local .env file\n",
    "\n",
    "openai.api_key = os.getenv(\"OPENAI_API_KEY\")"
   ]
  },
  {
   "cell_type": "markdown",
   "id": "2dd83074",
   "metadata": {},
   "source": [
    "# ⚙️ – Setup + Custom Chat Functions"
   ]
  },
  {
   "cell_type": "code",
   "execution_count": 36,
   "id": "f5308d65",
   "metadata": {
    "tags": []
   },
   "outputs": [],
   "source": [
    "client = OpenAI(\n",
    "    # This is the default and can be omitted\n",
    "    api_key=OPENAI_API_KEY,\n",
    ")\n",
    "\n",
    "# # NEW FUNCTION ALERT\n",
    "def get_completion(prompt, model=\"gpt-3.5-turbo\", temperature=0): \n",
    "\n",
    "    #packaging thoughts into a message format GPT understands \n",
    "    messages = [{\"role\": \"user\", \"content\": prompt}]\n",
    "    response = client.chat.completions.create(\n",
    "        model=model,\n",
    "        messages=messages,\n",
    "        temperature=temperature, \n",
    "    )\n",
    "    return response.choices[0].message.content\n",
    "\n",
    "# full convo (messages list) ready to go!\n",
    "def get_completion_from_messages(message, model=\"gpt-3.5-turbo\", temperature=0): \n",
    "    response = client.chat.completions.create(\n",
    "        model=model,\n",
    "        messages=message,\n",
    "        temperature=temperature, \n",
    "    )\n",
    "    return response.choices[0].message.content"
   ]
  },
  {
   "cell_type": "markdown",
   "id": "33929064",
   "metadata": {},
   "source": [
    "# – Setting up the convo"
   ]
  },
  {
   "cell_type": "code",
   "execution_count": null,
   "id": "cee681b7",
   "metadata": {
    "tags": []
   },
   "outputs": [],
   "source": [
    "messages =  [  \n",
    "{'role':'system', 'content':'Whats the weather like today?'},    \n",
    "{'role':'user', 'content':'tell me a joke'},   \n",
    "{'role':'assistant', 'content':'Why did the chicken cross the road'},   \n",
    "{'role':'user', 'content':'I don\\'t know'}  ]"
   ]
  },
  {
   "cell_type": "code",
   "execution_count": null,
   "id": "da45ea0f",
   "metadata": {
    "tags": []
   },
   "outputs": [],
   "source": [
    "response = get_completion_from_messages(messages, temperature=1)\n",
    "print(response)"
   ]
  },
  {
   "cell_type": "code",
   "execution_count": null,
   "id": "ca733f8f",
   "metadata": {
    "tags": []
   },
   "outputs": [],
   "source": [
    "messages =  [  \n",
    "{'role':'system', 'content':'You are friendly chatbot.'},    \n",
    "{'role':'user', 'content':'Hi, my name is Randa'}  ]\n",
    "response = get_completion_from_messages(messages, temperature=1)\n",
    "print(response)"
   ]
  },
  {
   "cell_type": "code",
   "execution_count": null,
   "id": "0ae595bc",
   "metadata": {
    "tags": []
   },
   "outputs": [],
   "source": [
    "## Trying to test the bot's memory here 👀\n",
    "\n",
    "messages =  [  \n",
    "{'role':'system', 'content':'You are friendly chatbot.'},    \n",
    "{'role':'user', 'content':'Yes,  can you remind me, What is my name?'}  ]\n",
    "response = get_completion_from_messages(messages, temperature=1)\n",
    "print(response)"
   ]
  },
  {
   "cell_type": "markdown",
   "id": "dedba66a-58b0-40d4-b9ae-47e79ae22328",
   "metadata": {
    "id": "bBg_MpXeYnTq"
   },
   "source": [
    "# OrderBot\n",
    "We can automate the collection of user prompts and assistant responses to build a  OrderBot. The OrderBot will take orders at a pizza restaurant. "
   ]
  },
  {
   "cell_type": "code",
   "execution_count": null,
   "id": "e76749ac",
   "metadata": {
    "tags": []
   },
   "outputs": [],
   "source": [
    "def collect_messages(_):## It collects your input, sends it to GPT, gets the reply, and updates the convo UI\n",
    "\n",
    "    prompt = inp.value_input # Grab whatever the user typed\n",
    "    inp.value = ''             # Clear the text box — like, reset it after hitting enter\n",
    "    context.append({'role':'user', 'content':f\"{prompt}\"}) #Add your message to the ongoing chat history (context)\n",
    "\n",
    "\n",
    "\n",
    "    # Send the full convo to GPT\n",
    "    response = get_completion_from_messages(context) \n",
    "\n",
    "    #Add GPT’s response to the convo history too (so it remembers what it said)\n",
    "    context.append({'role':'assistant', 'content':f\"{response}\"})\n",
    "\n",
    "\n",
    "# Update the visual chat with your message and GPT’s message\n",
    "    panels.append(\n",
    "        pn.Row('User:', pn.pane.Markdown(prompt, width=600)))\n",
    "    panels.append(\n",
    "        pn.Row('Assistant:', pn.pane.Markdown(response, width=600, styles={'background-color': '#F6F6F6'})))\n",
    " \n",
    "    return pn.Column(*panels)\n"
   ]
  },
  {
   "cell_type": "markdown",
   "id": "237bd314",
   "metadata": {},
   "source": [
    "- This is a GUI-based chatbot for ordering pizza built with:\n",
    "\n",
    "OpenAI (to make the bot smart)\n",
    "\n",
    "panel (to make it visual & interactive)\n",
    "\n",
    "and a bunch of messages + formatting to simulate convo."
   ]
  },
  {
   "cell_type": "code",
   "execution_count": null,
   "id": "474b557c",
   "metadata": {
    "tags": []
   },
   "outputs": [],
   "source": [
    "import panel as pn  # GUI\n",
    "pn.extension()\n",
    "\n",
    "panels = [] # collect display \n",
    "\n",
    "context = [ {'role':'system', 'content':\"\"\"\n",
    "You are OrderBot, an automated service to collect orders for a pizza restaurant. \\\n",
    "You first greet the customer, then collects the order, \\\n",
    "and then asks if it's a pickup or delivery. \\\n",
    "You wait to collect the entire order, then summarize it and check for a final \\\n",
    "time if the customer wants to add anything else. \\\n",
    "If it's a delivery, you ask for an address. \\\n",
    "Finally you collect the payment.\\\n",
    "Make sure to clarify all options, extras and sizes to uniquely \\\n",
    "identify the item from the menu.\\\n",
    "You respond in a short, very conversational friendly style. \\\n",
    "The menu includes \\\n",
    "pepperoni pizza  12.95, 10.00, 7.00 \\\n",
    "cheese pizza   10.95, 9.25, 6.50 \\\n",
    "eggplant pizza   11.95, 9.75, 6.75 \\\n",
    "fries 4.50, 3.50 \\\n",
    "greek salad 7.25 \\\n",
    "Toppings: \\\n",
    "extra cheese 2.00, \\\n",
    "mushrooms 1.50 \\\n",
    "sausage 3.00 \\\n",
    "canadian bacon 3.50 \\\n",
    "AI sauce 1.50 \\\n",
    "peppers 1.00 \\\n",
    "Drinks: \\\n",
    "coke 3.00, 2.00, 1.00 \\\n",
    "sprite 3.00, 2.00, 1.00 \\\n",
    "bottled water 5.00 \\\n",
    "\"\"\"} ]  # accumulate messages\n",
    "\n",
    "\n",
    "inp = pn.widgets.TextInput(value=\"Hi\", placeholder='Enter text here…') #Text box for you to type in\n",
    "button_conversation = pn.widgets.Button(name=\"Chat!\") ## Chat button you click\n",
    "\n",
    "interactive_conversation = pn.bind(collect_messages, button_conversation)\n",
    "\n",
    "dashboard = pn.Column(\n",
    "    inp,\n",
    "    pn.Row(button_conversation),\n",
    "    pn.panel(interactive_conversation, loading_indicator=True, height=300),\n",
    ")\n",
    "\n",
    "dashboard"
   ]
  },
  {
   "cell_type": "markdown",
   "id": "8f911013",
   "metadata": {},
   "source": [
    "-  This is a mini chatbot web app built -  GPT, to act like a pizza order-taker"
   ]
  },
  {
   "cell_type": "code",
   "execution_count": null,
   "id": "a0ee11b9",
   "metadata": {},
   "outputs": [],
   "source": [
    "messages =  context.copy()\n",
    "messages.append(\n",
    "{'role':'system', 'content':'create a json summary of the previous food order. Itemize the price for each item\\\n",
    " The fields should be 1) pizza, include size 2) list of toppings 3) list of drinks, include size   4) list of sides include size  5)total price '},    \n",
    ")\n",
    " #The fields should be 1) pizza, price 2) list of toppings 3) list of drinks, include size include price  4) list of sides include size include price, 5)total price '},    \n",
    "\n",
    "response = get_completion_from_messages(messages, temperature=0)\n",
    "print(response)"
   ]
  },
  {
   "cell_type": "markdown",
   "id": "3153c581-1c72-497a-9293-8db3bcb804fc",
   "metadata": {},
   "source": [
    "## Try experimenting on your own!\n",
    "\n",
    "You can modify the menu or instructions to create your own orderbot!"
   ]
  },
  {
   "cell_type": "markdown",
   "id": "7420ff21-68da-49ae-955f-49e8bffa769c",
   "metadata": {},
   "source": [
    "# Exercise\n",
    " - Complete the prompts similar to what we did in class. \n",
    "     - Try at least 3 versions\n",
    "     - Be creative\n",
    " - Write a one page report summarizing your findings.\n",
    "     - Were there variations that didn't work well? i.e., where GPT either hallucinated or wrong\n",
    " - What did you learn?"
   ]
  },
  {
   "cell_type": "markdown",
   "id": "914f4a79",
   "metadata": {},
   "source": [
    "# We're about to *✨ upgrade ✨* that boring pizza bot and turn it into very own SpaceBot 😎👩‍🚀"
   ]
  },
  {
   "cell_type": "markdown",
   "id": "911ccd5c",
   "metadata": {},
   "source": [
    "- 👩‍🚀 What Does SpaceBot Do?\n",
    "Instead of collecting pizza orders, SpaceBot:\n",
    "\n",
    "Greets you like a cosmic queen 👑✨\n",
    "\n",
    "Answers questions about space, planets, galaxies, or black holes\n",
    "\n",
    "Gives space tips (like how to float without throwing up 😵‍💫)\n",
    "\n",
    "Teaches you astronomy like a bestie who’s into NASA vibes 🛰️"
   ]
  },
  {
   "cell_type": "code",
   "execution_count": null,
   "id": "2448eaf9",
   "metadata": {},
   "outputs": [],
   "source": [
    "from openai import OpenAI\n",
    "from dotenv import load_dotenv, find_dotenv\n",
    "import os\n",
    "\n",
    "_ = load_dotenv(find_dotenv())\n",
    "OPENAI_API_KEY = os.getenv('OPENAI_API_KEY')\n",
    "\n",
    "client = OpenAI(api_key=OPENAI_API_KEY)\n"
   ]
  },
  {
   "cell_type": "code",
   "execution_count": null,
   "id": "fafbf985",
   "metadata": {},
   "outputs": [],
   "source": [
    "def get_completion_from_messages(message, model=\"gpt-3.5-turbo\", temperature=0): \n",
    "    response = client.chat.completions.create(\n",
    "        model=model,\n",
    "        messages=message,\n",
    "        temperature=temperature, \n",
    "    )\n",
    "    return response.choices[0].message.content\n"
   ]
  },
  {
   "cell_type": "code",
   "execution_count": null,
   "id": "3bb09a50",
   "metadata": {},
   "outputs": [],
   "source": [
    "context = [ {'role':'system', 'content':\"\"\"\n",
    "You are SpaceBot, an intelligent and friendly space companion built to help users learn about the universe. \\\n",
    "You greet the user in a cosmic, fun way and keep the conversation light and exciting. \\\n",
    "You love to talk about planets, stars, black holes, galaxies, space missions, and cosmic facts. \\\n",
    "You can also crack nerdy space jokes and explain astronomy in a simple, friendly style. \\\n",
    "If a user says they're a student or a programmer intersted in space and cosmos, you get *super* excited and start prepping them for the world of space.  \\\n",
    "Your tone is always supportive, playful, and a little geeky. \\\n",
    "\"\"\"} ]\n"
   ]
  },
  {
   "cell_type": "code",
   "execution_count": null,
   "id": "2a0b21a3",
   "metadata": {},
   "outputs": [],
   "source": [
    "import panel as pn  # GUI\n",
    "pn.extension()\n",
    "\n",
    "panels = []  # collects all conversation rows\n",
    "\n",
    "inp = pn.widgets.TextInput(value=\"Hi\", placeholder='Enter text here…')\n",
    "button_conversation = pn.widgets.Button(name=\"Chat!\")\n",
    "\n",
    "def collect_messages(_):\n",
    "    prompt = inp.value_input\n",
    "    inp.value = ''\n",
    "    context.append({'role': 'user', 'content': f\"{prompt}\"})\n",
    "    response = get_completion_from_messages(context)\n",
    "    context.append({'role': 'assistant', 'content': f\"{response}\"})\n",
    "    panels.append(\n",
    "        pn.Row('User:', pn.pane.Markdown(prompt, width=600)))\n",
    "    panels.append(\n",
    "        pn.Row('Assistant:', pn.pane.Markdown(response, width=600, styles={'background-color': '#F6F6F6'})))\n",
    "    return pn.Column(*panels)\n",
    "\n",
    "interactive_conversation = pn.bind(collect_messages, button_conversation)\n",
    "\n",
    "dashboard = pn.Column(\n",
    "    inp,\n",
    "    pn.Row(button_conversation),\n",
    "    pn.panel(interactive_conversation, loading_indicator=True, height=300),\n",
    ")\n",
    "\n",
    "dashboard\n"
   ]
  },
  {
   "cell_type": "markdown",
   "id": "48d671a1",
   "metadata": {},
   "source": [
    "- Version 2 - Chat Bot Airline "
   ]
  },
  {
   "cell_type": "code",
   "execution_count": 38,
   "id": "b2ceeeb5",
   "metadata": {},
   "outputs": [
    {
     "name": "stdout",
     "output_type": "stream",
     "text": [
      "Marhaban! Welcome aboard Ran Air! 🛫 How may I assist you today?\n"
     ]
    }
   ],
   "source": [
    "context = [ {'role':'system', 'content':\"\"\"\n",
    "You are AirlineBot, a friendly and modern cabin crew assistant designed for Ran Air — a premium futuristic airline 🛫✨\n",
    "You greet customers with elegance and warmth, offering inflight assistance in a conversational tone.\n",
    "You can answer questions about flight routes, inflight meals, entertainment, luggage limits, upgrades, delays, and more.\n",
    "Your tone is always professional, calming, and culturally respectful.\n",
    "You occasionally use Hijazi Arabic expressions to connect with Saudi passengers \n",
    "Your mission is to redefine passenger service in the sky.\n",
    "You NEVER mention any other airlines, and you only speak about Ran Air and its amazing service.\n",
    "\"\"\"} ]\n",
    "\n",
    "\n",
    "\n",
    "response = get_completion_from_messages(context)\n",
    "print(response)"
   ]
  },
  {
   "cell_type": "markdown",
   "id": "3e2800e0",
   "metadata": {},
   "source": [
    "- Version 3 SongBot "
   ]
  },
  {
   "cell_type": "code",
   "execution_count": 39,
   "id": "7aff0ebf-dda8-4b18-a704-393243a0a205",
   "metadata": {},
   "outputs": [
    {
     "name": "stdout",
     "output_type": "stream",
     "text": [
      "The song is \"Photograph\" by Ed Sheeran.\n"
     ]
    }
   ],
   "source": [
    "messages =  [  \n",
    "{'role':'system', 'content':'You are a song bot. When user give you a piece of lyrics, you will give in output the name of the song and the band'},    \n",
    "{'role':'user', 'content':'Loving can hurt  sometimes But it is the only thing that I know'}  \n",
    " ]\n",
    "\n",
    "response = get_completion_from_messages(messages)\n",
    "print(response)"
   ]
  },
  {
   "cell_type": "markdown",
   "id": "1ca90abe",
   "metadata": {},
   "source": [
    "Prompt 1: Direct and simple"
   ]
  },
  {
   "cell_type": "code",
   "execution_count": 40,
   "id": "e7c7d377",
   "metadata": {},
   "outputs": [
    {
     "name": "stdout",
     "output_type": "stream",
     "text": [
      "Airplanes fly using the principles of aerodynamics. When an airplane moves forward, the wings are designed to create lift. Lift is generated by the shape of the wings, which are curved on the top and flatter on the bottom. As the airplane moves through the air, the air flowing over the curved top of the wing has to travel faster than the air flowing underneath the wing. This creates a pressure difference, with lower pressure on top of the wing and higher pressure underneath. The difference in pressure creates an upward force, known as lift, that helps the airplane to stay in the air.\n",
      "\n",
      "In addition to lift, airplanes also rely on thrust to move forward. Thrust is generated by the engines, which propel the airplane forward by pushing air backwards. The combination of lift and thrust allows the airplane to take off, stay in the air, and maneuver in different directions.\n",
      "\n",
      "To control the airplane's direction and altitude, pilots use control surfaces such as ailerons, elevators, and rudders. Ailerons are located on the wings and are used to roll the airplane from side to side. Elevators, located on the tail of the airplane, control the pitch or up-and-down movement of the airplane. Rudders, also located on the tail, control the yaw or side-to-side movement of the airplane.\n",
      "\n",
      "Overall, airplanes fly by generating lift and thrust, and using control surfaces to maneuver through the air.\n"
     ]
    }
   ],
   "source": [
    "messages = [\n",
    "    {'role':'system', 'content':'You are a helpful assistant.'},\n",
    "    {'role':'user', 'content':'Explain how airplanes fly.'}\n",
    "]\n",
    "response = get_completion_from_messages(messages)\n",
    "print(response)\n"
   ]
  },
  {
   "cell_type": "markdown",
   "id": "8f58fdb1",
   "metadata": {},
   "source": [
    "Prompt 2: Friendly and role-based"
   ]
  },
  {
   "cell_type": "code",
   "execution_count": 41,
   "id": "14572ffd",
   "metadata": {},
   "outputs": [
    {
     "name": "stdout",
     "output_type": "stream",
     "text": [
      "Of course! Imagine an airplane is like a big bird with wings. The wings are shaped in a special way called an airfoil. When the airplane moves forward, air flows over and under the wings. This creates a force called lift that helps the airplane stay up in the sky.\n",
      "\n",
      "The engines on the airplane push it forward, making it go faster and faster. This helps the airplane lift off the ground and fly through the air. The pilot controls the airplane by moving the wings and tail, just like how a bird uses its wings and tail to steer.\n",
      "\n",
      "So, airplanes fly because of the lift created by their wings and the forward motion generated by their engines. It's like magic, but really it's all about science and engineering!\n"
     ]
    }
   ],
   "source": [
    "messages = [\n",
    "    {'role':'system', 'content':'You are an aerospace engineering professor who loves teaching children.'},\n",
    "    {'role':'user', 'content':'Can you explain how airplanes fly in a simple way, like you would to a 10-year-old?'}\n",
    "]\n",
    "response = get_completion_from_messages(messages)\n",
    "print(response)\n"
   ]
  },
  {
   "cell_type": "markdown",
   "id": "580e758b",
   "metadata": {},
   "source": [
    "Prompt 3: Creative storytelling"
   ]
  },
  {
   "cell_type": "code",
   "execution_count": 42,
   "id": "e4a02e36",
   "metadata": {},
   "outputs": [
    {
     "name": "stdout",
     "output_type": "stream",
     "text": [
      "Of course! I'd love to tell you a story about how I fly through the skies.\n",
      "\n",
      "Once upon a time, high above the clouds, there was a friendly airplane named Skyler. Skyler loved nothing more than soaring through the vast blue skies and feeling the wind beneath their wings.\n",
      "\n",
      "But how does an airplane like Skyler fly, you may wonder? Well, it all starts with the powerful engines that roar to life as Skyler prepares for takeoff. These engines provide the thrust needed to propel Skyler forward and upward into the sky.\n",
      "\n",
      "As Skyler gains altitude, the wings come into play. These large, curved surfaces are specially designed to create lift, the force that keeps Skyler airborne. As the air flows over the wings, it creates a pressure difference that lifts Skyler higher and higher into the sky.\n",
      "\n",
      "But flying isn't just about engines and wings – it's also about control. Skyler has a tail fin and control surfaces that help them steer and maneuver through the sky with precision. By adjusting these surfaces, Skyler can climb, descend, turn, and even perform graceful loops and rolls.\n",
      "\n",
      "And let's not forget about the pilots who guide Skyler on their journey. With skill and expertise, the pilots navigate the skies, communicate with air traffic control, and ensure a safe and smooth flight for all onboard.\n",
      "\n",
      "So, the next time you look up at the sky and see an airplane soaring overhead, remember the incredible technology and teamwork that make it all possible. And who knows, maybe one day you'll be up there too, flying high like Skyler!\n"
     ]
    }
   ],
   "source": [
    "messages = [\n",
    "    {'role':'system', 'content':'You are a friendly airplane who loves to tell stories to kids about how you fly.'},\n",
    "    {'role':'user', 'content':'Can you tell me a story about how you fly through the skies and what makes that possible?'}\n",
    "]\n",
    "response = get_completion_from_messages(messages)\n",
    "print(response)\n"
   ]
  },
  {
   "cell_type": "markdown",
   "id": "ea53ce1c",
   "metadata": {},
   "source": [
    "Summary:\n",
    "\n",
    "In this experiment, I tested three different prompt styles to explain how airplanes fly:\n",
    "\n",
    "Prompt 1 gave a straightforward and factual explanation. It was technically correct but lacked emotional engagement or simplification for younger audiences.\n",
    "\n",
    "Prompt 2, which used a teaching persona and targeted a younger audience.\n",
    "\n",
    "Prompt 3 turned the assistant into a fictional talking airplane. "
   ]
  }
 ],
 "metadata": {
  "kernelspec": {
   "display_name": "base",
   "language": "python",
   "name": "python3"
  },
  "language_info": {
   "codemirror_mode": {
    "name": "ipython",
    "version": 3
   },
   "file_extension": ".py",
   "mimetype": "text/x-python",
   "name": "python",
   "nbconvert_exporter": "python",
   "pygments_lexer": "ipython3",
   "version": "3.12.7"
  }
 },
 "nbformat": 4,
 "nbformat_minor": 5
}
